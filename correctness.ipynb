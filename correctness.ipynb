{
 "cells": [
  {
   "cell_type": "markdown",
   "metadata": {},
   "source": [
    "# Imports\n"
   ]
  },
  {
   "cell_type": "code",
   "execution_count": 77,
   "metadata": {},
   "outputs": [],
   "source": [
    "import numpy as np\n",
    "import os\n",
    "import matplotlib.pyplot as plt"
   ]
  },
  {
   "cell_type": "markdown",
   "metadata": {},
   "source": [
    "# Access functions"
   ]
  },
  {
   "cell_type": "code",
   "execution_count": 78,
   "metadata": {},
   "outputs": [],
   "source": [
    "def retrieve_results(path):\n",
    "    \"\"\"\n",
    "    This function retrieves the results of a certain computation.\n",
    "\n",
    "    Input:\n",
    "     - path: inner path to the folder containing a result (consider to address a path/job.out)\n",
    "\n",
    "    Output:\n",
    "     - A numpy array of 3 unsigned integers (matched patterns and the 2 checksums),\n",
    "       or\n",
    "     - [-1, -1, -1] meaning an absence of attemps\n",
    "       or\n",
    "     - [-2, -2, -2] meaning a non-finished run due to interruption\n",
    "       or\n",
    "     - [-3, -3, -3] meaning an aborted run\n",
    "    \"\"\"\n",
    "    # Checking that the computation was at least attempted\n",
    "    if \"job.out\" and \"job.err\" in os.listdir(path):\n",
    "        f = open(path + \"/job.err\", \"r\")\n",
    "        # Checking that the computation had no errors\n",
    "        if (len(f.readlines()) > 0):\n",
    "            return np.array([-3, -3, -3])\n",
    "\n",
    "        f = open(path + \"/job.out\", \"r\")\n",
    "\n",
    "        # Checking that the computation has gone through correctly\n",
    "        lines = f.readlines()\n",
    "        if len(lines) > 0:\n",
    "            result = lines[2].split()[1:]\n",
    "            result[0] = result[0][:-1]\n",
    "            result[1] = result[1][:-1]\n",
    "            return np.array(result, dtype=np.uint64)\n",
    "        else:\n",
    "            return np.array([-2, -2, -2])\n",
    "        \n",
    "    return np.array([-1, -1, -1])\n"
   ]
  },
  {
   "cell_type": "code",
   "execution_count": 79,
   "metadata": {},
   "outputs": [
    {
     "data": {
      "text/plain": [
       "array([-2, -2, -2])"
      ]
     },
     "execution_count": 79,
     "metadata": {},
     "output_type": "execute_result"
    }
   ],
   "source": [
    "# Test\n",
    "\n",
    "retrieve_results(\"results/logs/sequential/seq_length_25/patterns_15/mean_path_length_4\")"
   ]
  },
  {
   "cell_type": "code",
   "execution_count": 80,
   "metadata": {},
   "outputs": [],
   "source": [
    "def retrieve_settings(path):\n",
    "    \"\"\"\n",
    "    This function retrieves all the settings for a certain measurement.\n",
    "\n",
    "    Input:\n",
    "     - path: inner path to the folder containing a result (consider to address a path/job.out)\n",
    "\n",
    "    Output: \n",
    "     - A numpy array of settings in format np.int64\n",
    "    \"\"\"\n",
    "    options = path.split(\"/\")\n",
    "    settings = np.array([], dtype=np.int64)\n",
    "    for set in options:\n",
    "        if not str.isalpha(set.split(\"_\")[-1]):\n",
    "            settings = np.append(settings, np.int64(set.split(\"_\")[-1]))\n",
    "            \n",
    "    return settings"
   ]
  },
  {
   "cell_type": "code",
   "execution_count": 81,
   "metadata": {},
   "outputs": [
    {
     "data": {
      "text/plain": [
       "[True, False, True, True, True]"
      ]
     },
     "execution_count": 81,
     "metadata": {},
     "output_type": "execute_result"
    }
   ],
   "source": [
    "# Test\n",
    "\n",
    "retrieve_settings(\"results/logs/sequential/seq_length_25/patterns_15/mean_path_length_4\")\n",
    "[os.path.isdir(\"results/logs/sequential\" + \"/\" + x) for x in os.listdir(\"results/logs/sequential\")]"
   ]
  },
  {
   "cell_type": "code",
   "execution_count": 82,
   "metadata": {},
   "outputs": [],
   "source": [
    "# These indexes allow us to rapidly swap the number of parameter in consideration during generation.\n",
    "\n",
    "sequential_idx = {\"seq_length\": 0, \"patterns\": 1, \"mean_path_length\": 2}\n",
    "pthreads_idx = {\"threads\": 0, \"seq_length\": 1, \"patterns\": 2, \"mean_path_length\": 3}"
   ]
  },
  {
   "cell_type": "markdown",
   "metadata": {},
   "source": [
    "# Dataset creation"
   ]
  },
  {
   "cell_type": "code",
   "execution_count": 83,
   "metadata": {},
   "outputs": [],
   "source": [
    "def create_dataset(path, dataset):\n",
    "    \"\"\"\n",
    "    This function recursively explores the results folder and gathers data about the measurements.\n",
    "\n",
    "    Input:\n",
    "     - path: the path of the dataset\n",
    "     - dataset: whatever numpy array of np.uint with the same dimension as the measurement variables\n",
    "\n",
    "     Output: \n",
    "      - The dataset as a numpy array of np.uint. The shape of the array is (measurements, variables),\n",
    "        where the last 3 variables are the results of the computation\n",
    "    \"\"\"\n",
    "    new_dataset = np.copy(dataset)\n",
    "    if not os.path.isdir(path):\n",
    "        return dataset\n",
    "    elif not np.any([os.path.isdir(path + \"/\" + x) for x in os.listdir(path)]):\n",
    "        results = retrieve_results(path)\n",
    "        settings = retrieve_settings(path)\n",
    "        row = np.append(settings, results.astype(np.int64)).reshape(1, -1)\n",
    "        return np.append(new_dataset, row, axis=0)\n",
    "    else:\n",
    "        for dir in os.listdir(path):\n",
    "            new_dataset = create_dataset(path + \"/\" + dir, new_dataset)\n",
    "\n",
    "    return new_dataset"
   ]
  },
  {
   "cell_type": "code",
   "execution_count": 84,
   "metadata": {},
   "outputs": [],
   "source": [
    "# Testing\n",
    "\n",
    "sequential = create_dataset(\"results/logs/sequential\", np.zeros(shape=(1, len(sequential_idx) + 3), dtype=np.int64))[1:,]"
   ]
  },
  {
   "cell_type": "markdown",
   "metadata": {},
   "source": [
    "## Data retrieval\n"
   ]
  },
  {
   "cell_type": "code",
   "execution_count": 92,
   "metadata": {},
   "outputs": [],
   "source": [
    "pthreads = create_dataset(\"results/logs/pthreads\", np.zeros(shape=(1, len(pthreads_idx) + 3), dtype=np.int64))[1:,]\n",
    "sequential = create_dataset(\"results/logs/sequential\", np.zeros(shape=(1, len(sequential_idx) + 3), dtype=np.int64))[1:, :]"
   ]
  },
  {
   "cell_type": "code",
   "execution_count": 93,
   "metadata": {},
   "outputs": [
    {
     "data": {
      "text/plain": [
       "array([[   10,    10,     4,  1147,   368, 39054],\n",
       "       [   10,    10,     6,  1024, 13697, 64955],\n",
       "       [   10,    10,     8,  1024, 52130, 65257],\n",
       "       [   10,    10,    10,    -1,    -1,    -1],\n",
       "       [   10,    15,     4, 36701, 13109, 31218],\n",
       "       [   10,    15,     6, 32772, 64241, 45148],\n",
       "       [   10,    15,     8, 32768, 49010, 51114],\n",
       "       [   10,    15,    10,    -1,    -1,    -1],\n",
       "       [   10,    20,     4,    -1,    -1,    -1],\n",
       "       [   10,    20,     6,    -1,    -1,    -1],\n",
       "       [   10,    20,     8,    -1,    -1,    -1],\n",
       "       [   10,    20,    10,    -1,    -1,    -1],\n",
       "       [   10,    25,     4,    -1,    -1,    -1],\n",
       "       [   10,    25,     6,    -1,    -1,    -1],\n",
       "       [   10,    25,     8,    -1,    -1,    -1],\n",
       "       [   10,    25,    10,    -1,    -1,    -1],\n",
       "       [   25,    10,     4,  1323, 28815, 23226],\n",
       "       [   25,    10,     6,  1024, 14516, 65439],\n",
       "       [   25,    10,     8,  1024, 15615, 65006],\n",
       "       [   25,    10,    10,    -1,    -1,    -1],\n",
       "       [   25,    10,    12,    -1,    -1,    -1],\n",
       "       [   25,    10,    20,    -1,    -1,    -1],\n",
       "       [   25,    15,     4,    -2,    -2,    -2],\n",
       "       [   25,    15,     6,    -2,    -2,    -2],\n",
       "       [   25,    15,     8,    -2,    -2,    -2],\n",
       "       [   25,    15,    10,    -1,    -1,    -1],\n",
       "       [   25,    15,    12,    -1,    -1,    -1],\n",
       "       [   25,    15,    20,    -1,    -1,    -1],\n",
       "       [   25,    20,     4,    -1,    -1,    -1],\n",
       "       [   25,    20,     6,    -1,    -1,    -1],\n",
       "       [   25,    20,     8,    -1,    -1,    -1],\n",
       "       [   25,    20,    10,    -1,    -1,    -1],\n",
       "       [   25,    20,    12,    -1,    -1,    -1],\n",
       "       [   25,    20,    20,    -1,    -1,    -1],\n",
       "       [   25,    25,     4,    -1,    -1,    -1],\n",
       "       [   25,    25,     6,    -1,    -1,    -1],\n",
       "       [   25,    25,     8,    -1,    -1,    -1],\n",
       "       [   25,    25,    10,    -1,    -1,    -1],\n",
       "       [   25,    25,    12,    -1,    -1,    -1],\n",
       "       [   25,    25,    20,    -1,    -1,    -1],\n",
       "       [   30,    10,     4,    -1,    -1,    -1],\n",
       "       [   30,    10,     6,    -1,    -1,    -1],\n",
       "       [   30,    10,     8,    -1,    -1,    -1],\n",
       "       [   30,    10,    10,    -1,    -1,    -1],\n",
       "       [   30,    10,    12,    -1,    -1,    -1],\n",
       "       [   30,    10,    20,    -1,    -1,    -1],\n",
       "       [   30,    15,     4,    -1,    -1,    -1],\n",
       "       [   30,    15,     6,    -1,    -1,    -1],\n",
       "       [   30,    15,     8,    -1,    -1,    -1],\n",
       "       [   30,    15,    10,    -1,    -1,    -1],\n",
       "       [   30,    15,    12,    -1,    -1,    -1],\n",
       "       [   30,    15,    20,    -1,    -1,    -1],\n",
       "       [   30,    20,     4,    -1,    -1,    -1],\n",
       "       [   30,    20,     6,    -1,    -1,    -1],\n",
       "       [   30,    20,     8,    -1,    -1,    -1],\n",
       "       [   30,    20,    10,    -1,    -1,    -1],\n",
       "       [   30,    20,    12,    -1,    -1,    -1],\n",
       "       [   30,    20,    20,    -1,    -1,    -1],\n",
       "       [   30,    25,     4,    -1,    -1,    -1],\n",
       "       [   30,    25,     6,    -1,    -1,    -1],\n",
       "       [   30,    25,     8,    -1,    -1,    -1],\n",
       "       [   30,    25,    10,    -1,    -1,    -1],\n",
       "       [   30,    25,    12,    -1,    -1,    -1],\n",
       "       [   30,    25,    20,    -1,    -1,    -1],\n",
       "       [   40,    10,     4,    -1,    -1,    -1],\n",
       "       [   40,    10,     6,    -1,    -1,    -1],\n",
       "       [   40,    10,     8,    -1,    -1,    -1],\n",
       "       [   40,    10,    10,    -1,    -1,    -1],\n",
       "       [   40,    10,    12,    -1,    -1,    -1],\n",
       "       [   40,    10,    20,    -1,    -1,    -1],\n",
       "       [   40,    15,     4,    -1,    -1,    -1],\n",
       "       [   40,    15,     6,    -1,    -1,    -1],\n",
       "       [   40,    15,     8,    -1,    -1,    -1],\n",
       "       [   40,    15,    10,    -1,    -1,    -1],\n",
       "       [   40,    15,    12,    -1,    -1,    -1],\n",
       "       [   40,    15,    20,    -1,    -1,    -1],\n",
       "       [   40,    20,     4,    -1,    -1,    -1],\n",
       "       [   40,    20,     6,    -1,    -1,    -1],\n",
       "       [   40,    20,     8,    -1,    -1,    -1],\n",
       "       [   40,    20,    10,    -1,    -1,    -1],\n",
       "       [   40,    20,    12,    -1,    -1,    -1],\n",
       "       [   40,    20,    20,    -1,    -1,    -1],\n",
       "       [   40,    25,     4,    -1,    -1,    -1],\n",
       "       [   40,    25,     6,    -1,    -1,    -1],\n",
       "       [   40,    25,     8,    -1,    -1,    -1],\n",
       "       [   40,    25,    10,    -1,    -1,    -1],\n",
       "       [   40,    25,    12,    -1,    -1,    -1],\n",
       "       [   40,    25,    20,    -1,    -1,    -1]])"
      ]
     },
     "execution_count": 93,
     "metadata": {},
     "output_type": "execute_result"
    }
   ],
   "source": [
    "sequential[np.lexsort(np.transpose(sequential)[::-1])]"
   ]
  },
  {
   "cell_type": "markdown",
   "metadata": {},
   "source": [
    "# Checking correctness of computation"
   ]
  },
  {
   "cell_type": "code",
   "execution_count": 101,
   "metadata": {},
   "outputs": [],
   "source": [
    "def correctness(path, method_idx):\n",
    "    \"\"\"\n",
    "    This function checks the correctness of a computation and tests it against sequential's results.\n",
    "\n",
    "    Input:\n",
    "     - path: path to the results\n",
    "    \n",
    "    Output:\n",
    "     - self-described\n",
    "    \"\"\"\n",
    "    # Creating the results datasets\n",
    "    sequential = create_dataset(\"results/logs/sequential\", np.zeros(shape=(1, len(sequential_idx) + 3), dtype=np.int64))[1:,]\n",
    "    sequential = sequential[np.lexsort(np.transpose(sequential)[::-1])]\n",
    "    dataset = create_dataset(path, np.zeros(shape=(1, len(method_idx) + 3), dtype=np.int64))[1:,]\n",
    "    dataset = dataset[np.lexsort(np.transpose(dataset)[::-1])]\n",
    "\n",
    "    # First check: runs with errors\n",
    "    errors = dataset[np.where(dataset[:, -3:] == np.array([-3, -3, -3], dtype=np.int64))]\n",
    "    if errors.shape[0] == 0:\n",
    "        print(\"1. No errors\")\n",
    "    else:\n",
    "        print(f\"1. There where {errors.shape[0]} errors:\")\n",
    "        print(errors)\n",
    "\n",
    "    # Second checks: runs non - terminated (where sequential terminated)\n",
    "    errors = sequential[(np.where(sequential[:, -3:] == np.array([-2, -2, -2], dtype=np.int64))) &\n",
    "                        (np.where(sequential[:, :-3] == np.array([-2, -2, -2], dtype=np.int64)))]\n",
    "    if errors.shape[0] == 0:\n",
    "        print(\"1. No errors\")\n",
    "    else:\n",
    "        print(f\"1. There where {errors.shape[0]} errors:\")\n",
    "        print(errors)"
   ]
  },
  {
   "cell_type": "code",
   "execution_count": 102,
   "metadata": {},
   "outputs": [
    {
     "name": "stdout",
     "output_type": "stream",
     "text": [
      "1. No errors\n"
     ]
    }
   ],
   "source": [
    "correctness(\"results/logs/pthreads\", pthreads_idx)"
   ]
  }
 ],
 "metadata": {
  "kernelspec": {
   "display_name": "dlcourse-BfLxQsIA-py3.11",
   "language": "python",
   "name": "python3"
  },
  "language_info": {
   "codemirror_mode": {
    "name": "ipython",
    "version": 3
   },
   "file_extension": ".py",
   "mimetype": "text/x-python",
   "name": "python",
   "nbconvert_exporter": "python",
   "pygments_lexer": "ipython3",
   "version": "3.11.11"
  }
 },
 "nbformat": 4,
 "nbformat_minor": 2
}
