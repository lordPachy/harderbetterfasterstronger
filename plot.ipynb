{
 "cells": [
  {
   "cell_type": "markdown",
   "metadata": {},
   "source": [
    "# Imports\n"
   ]
  },
  {
   "cell_type": "code",
   "execution_count": 54,
   "metadata": {},
   "outputs": [],
   "source": [
    "import numpy as np\n",
    "import os"
   ]
  },
  {
   "cell_type": "markdown",
   "metadata": {},
   "source": [
    "# Access functions"
   ]
  },
  {
   "cell_type": "code",
   "execution_count": 37,
   "metadata": {},
   "outputs": [],
   "source": [
    "def retrieve_time(path):\n",
    "    \"\"\"\n",
    "    Input: inner path to a result (results/logs/path/job.out)\n",
    "    Output: a float or an error\n",
    "    \"\"\"\n",
    "    f = open(\"results/logs/\" + path + \"/job.out\", \"r\")\n",
    "    return float(f.readlines()[1][6:])"
   ]
  },
  {
   "cell_type": "code",
   "execution_count": 72,
   "metadata": {},
   "outputs": [],
   "source": [
    "def retrieve_settings(path):\n",
    "    \"\"\"\n",
    "    Input: inner path to a result (results/logs/path/job.out)\n",
    "    Output: a numpy array of settings\n",
    "    \"\"\"\n",
    "    options = path.split(\"/\")\n",
    "    settings = []\n",
    "    for set in options:\n",
    "        if not str.isalpha(set.split(\"_\")[-1]):\n",
    "            settings.append(set.split(\"_\")[-1])\n",
    "    return np.array(settings, dtype=np.float64)"
   ]
  },
  {
   "cell_type": "code",
   "execution_count": 52,
   "metadata": {},
   "outputs": [],
   "source": [
    "def create_dataset(path = \"\", dataset = np.array([], dtype=np.float64)):\n",
    "    if os.listdir(path) == []:\n",
    "        return dataset\n",
    "    elif \"job.out\" in os.listdir(path):\n",
    "        try:\n",
    "            time = retrieve_time(path)\n",
    "            settings = retrieve_settings(path)\n",
    "            return np.append(dataset, np.append(settings, np.float64(time)))\n",
    "        except:\n",
    "            return dataset\n",
    "    else:\n",
    "        for dir in os.listdir(path):\n",
    "            dataset = create_dataset(\"results/logs/\" + path, dataset)\n",
    "\n",
    "    return dataset"
   ]
  },
  {
   "cell_type": "markdown",
   "metadata": {},
   "source": [
    "# Tests\n"
   ]
  },
  {
   "cell_type": "code",
   "execution_count": 73,
   "metadata": {},
   "outputs": [
    {
     "data": {
      "text/plain": [
       "array([ 2., 10., 10.,  6.])"
      ]
     },
     "execution_count": 73,
     "metadata": {},
     "output_type": "execute_result"
    }
   ],
   "source": [
    "retrieve_settings(\"pthreads/threads_2/seq_length_10/patterns_10/mean_path_length_6\")"
   ]
  },
  {
   "cell_type": "code",
   "execution_count": 51,
   "metadata": {},
   "outputs": [
    {
     "data": {
      "text/plain": [
       "['job.out', 'job.log', 'job.err']"
      ]
     },
     "execution_count": 51,
     "metadata": {},
     "output_type": "execute_result"
    }
   ],
   "source": [
    "create_dataset(\"pthreads/threads_2/seq_length_10/patterns_10/mean_path_length_6\")"
   ]
  },
  {
   "cell_type": "code",
   "execution_count": 39,
   "metadata": {},
   "outputs": [
    {
     "data": {
      "text/plain": [
       "0.006373"
      ]
     },
     "execution_count": 39,
     "metadata": {},
     "output_type": "execute_result"
    }
   ],
   "source": [
    "retrieve_time(\"pthreads/threads_2/seq_length_10/patterns_10/mean_path_length_4\")"
   ]
  }
 ],
 "metadata": {
  "kernelspec": {
   "display_name": "Python 3",
   "language": "python",
   "name": "python3"
  },
  "language_info": {
   "codemirror_mode": {
    "name": "ipython",
    "version": 3
   },
   "file_extension": ".py",
   "mimetype": "text/x-python",
   "name": "python",
   "nbconvert_exporter": "python",
   "pygments_lexer": "ipython3",
   "version": "3.12.7"
  }
 },
 "nbformat": 4,
 "nbformat_minor": 2
}
